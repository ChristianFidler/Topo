{
 "cells": [
  {
   "cell_type": "code",
   "execution_count": 1,
   "metadata": {},
   "outputs": [],
   "source": [
    "from cryptography.hazmat.primitives import serialization, hashes\n",
    "from cryptography.hazmat.backends import default_backend\n",
    "from eth_keys import keys\n",
    "from pymerkle import InmemoryTree as MerkleTree\n",
    "from eth_utils import keccak\n",
    "import random\n",
    "\n",
    "# Utility function to check if a number is a power of two\n",
    "def is_power_of_two(n):\n",
    "    return n > 0 and (n & (n - 1)) == 0\n",
    "\n",
    "# Function to compute SHA-256 hash of an object\n",
    "def compute_sha256(message):\n",
    "    digest = hashes.Hash(hashes.SHA256(), backend=default_backend())\n",
    "    digest.update(message)\n",
    "\n",
    "    return keccak(message)  # Ethereum uses Keccak-256 for hashing the message\n",
    "\n",
    "    return digest.finalize()\n",
    "\n",
    "# Function to verify file hash against the pre-committed value\n",
    "def verify_file_hash(file_path, expected_hash):\n",
    "    digest = hashes.Hash(hashes.SHA256(), backend=default_backend())\n",
    "    with open(file_path, 'rb') as f:\n",
    "        for chunk in iter(lambda: f.read(4096), b\"\"):\n",
    "            digest.update(chunk)\n",
    "    file_hash = digest.finalize().hex()\n",
    "    return file_hash == expected_hash\n",
    "\n",
    "# Function to verify hash of an object (pre_object or proof)\n",
    "def verify_committed_hash(object_to_hash, committed_hash):\n",
    "    computed_hash = compute_sha256(str(object_to_hash).encode()).hex()\n",
    "    return computed_hash == committed_hash\n",
    "\n",
    "# Function to verify signature using public key\n",
    "def verify_signature_hex(public_key_hex, message_hash, signature_hex):\n",
    "    public_key_bytes = bytes.fromhex(public_key_hex[2:])\n",
    "    public_key = keys.PublicKey(public_key_bytes)\n",
    "    signature_bytes = bytes.fromhex(signature_hex[2:])\n",
    "    signature = keys.Signature(signature_bytes)\n",
    "    return public_key.verify_msg_hash(message_hash, signature)\n",
    "\n",
    "# Function to process file and verify Merkle Tree roots\n",
    "def process_file_and_verify_roots(file_path, proof_roots, skip=10, rounding=5, full_verification=False):\n",
    "    tree = MerkleTree(hash_type='sha256')\n",
    "    level = 1\n",
    "    \n",
    "    with open(file_path, 'r') as f:\n",
    "        for i, line in enumerate(f, start=1):\n",
    "            if i % skip == 0:\n",
    "                rounded_numbers = [round(float(num), rounding) for num in line.strip().split(',')]\n",
    "                tree.append_entry(str(rounded_numbers).encode())\n",
    "                \n",
    "                if is_power_of_two(tree.get_size()):\n",
    "                    root_hash = tree.get_state().hex()\n",
    "                    if root_hash in proof_roots:\n",
    "                        print(f'Verification passed at level {level}')\n",
    "                        level += 1\n",
    "                    else:\n",
    "                        print('Verification failed')\n",
    "    \n",
    "    if full_verification and not is_power_of_two(tree.get_size()):\n",
    "        root_hash = tree.get_state().hex()\n",
    "        if root_hash in proof_roots:\n",
    "            print('Full verification passed')\n",
    "        else:\n",
    "            print('Verification failed')\n",
    "\n",
    "\n"
   ]
  },
  {
   "cell_type": "code",
   "execution_count": 2,
   "metadata": {},
   "outputs": [
    {
     "name": "stdout",
     "output_type": "stream",
     "text": [
      "Input verified\n",
      "Please verify the code fingerprint 000000001 against the used code\n",
      "Pre hash verified\n",
      "Signature valid\n"
     ]
    }
   ],
   "source": [
    "# Gather pre-committed data\n",
    "pre_hash = 'fa2a1cd8684f118211889aeb7306f3444d7515b5ca409976e15c784a6e2cb170'\n",
    "pre_object = {'code_hash': '000000001', 'file_hash': '218a6313c7d6ae484734a20395bd39efac1bb7fbd84f690afe94f77924649cae'}\n",
    "public_key_hex = '0xf47e6e2ee26af422643bed0c7f4eb96b9de00be9ab6a3e0ab9aca07338dd28f90c78d3c170c7fe2c06171ddf67747bc181625d1f3926cab8cbfc7794bab23b43'\n",
    "signature_hex = '0x720890f2a5e67409d96edf6b153568b97d3dad10324992f4537134e8087dd8a16802954c31ae401bef3819fe71a25b20a674e6dfbe67a4ca983f3dbd7a6d1d5600'\n",
    "\n",
    "# Verify file hash against pre-committed value\n",
    "file_path = \"input.txt\"\n",
    "if verify_file_hash(file_path, pre_object['file_hash']):\n",
    "    print('Input verified')\n",
    "else:\n",
    "    print('Input could not be verified!')\n",
    "\n",
    "print(f\"Please verify the code fingerprint {pre_object['code_hash']} against the used code\")\n",
    "\n",
    "# Verify the committed pre_object hash\n",
    "if verify_committed_hash(pre_object, pre_hash):\n",
    "    print('Pre hash verified')\n",
    "else:\n",
    "    print('Committed hash not verified!')\n",
    "\n",
    "# Verify the signature on the pre_object\n",
    "pre_object_hash = compute_sha256(str(pre_object).encode())\n",
    "if verify_signature_hex(public_key_hex, pre_object_hash, signature_hex):\n",
    "    print('Signature valid')\n",
    "else:\n",
    "    print('Signature invalid!')\n",
    "\n"
   ]
  },
  {
   "cell_type": "code",
   "execution_count": 3,
   "metadata": {},
   "outputs": [
    {
     "name": "stdout",
     "output_type": "stream",
     "text": [
      "Please verify the data fingerprint 00000001 against the used data\n"
     ]
    },
    {
     "ename": "KeyError",
     "evalue": "'pre_hash'",
     "output_type": "error",
     "traceback": [
      "\u001b[0;31m---------------------------------------------------------------------------\u001b[0m",
      "\u001b[0;31mKeyError\u001b[0m                                  Traceback (most recent call last)",
      "Cell \u001b[0;32mIn[3], line 7\u001b[0m\n\u001b[1;32m      4\u001b[0m proof \u001b[38;5;241m=\u001b[39m  {\u001b[38;5;124m'\u001b[39m\u001b[38;5;124mroots\u001b[39m\u001b[38;5;124m'\u001b[39m: [\u001b[38;5;124m'\u001b[39m\u001b[38;5;124m9aebface6387aeff2b3b4a9c0ccf94b617c41587a699d8b568ad7173806f28d9\u001b[39m\u001b[38;5;124m'\u001b[39m, \u001b[38;5;124m'\u001b[39m\u001b[38;5;124m9ff5cf6b07c47ca91ea47969f88fdb4aec17760c74fecc89503fd4e25ae6d420\u001b[39m\u001b[38;5;124m'\u001b[39m, \u001b[38;5;124m'\u001b[39m\u001b[38;5;124m169ed591e4712c61bdf73184d29ff53981c4832a2bc75bdbac5ca85de16f6776\u001b[39m\u001b[38;5;124m'\u001b[39m, \u001b[38;5;124m'\u001b[39m\u001b[38;5;124m39f2cf5a5923eb790af160aef3c16adb32471bc27fbbaad78461498bc1fab792\u001b[39m\u001b[38;5;124m'\u001b[39m, \u001b[38;5;124m'\u001b[39m\u001b[38;5;124m4088f92bff4d709e5ba0c3cad88ddc61cf9ddcfaab3f657b995690131c617560\u001b[39m\u001b[38;5;124m'\u001b[39m], \u001b[38;5;124m'\u001b[39m\u001b[38;5;124mdata_hash\u001b[39m\u001b[38;5;124m'\u001b[39m: \u001b[38;5;124m'\u001b[39m\u001b[38;5;124m00000001\u001b[39m\u001b[38;5;124m'\u001b[39m, \u001b[38;5;124m'\u001b[39m\u001b[38;5;124mseed\u001b[39m\u001b[38;5;124m'\u001b[39m: \u001b[38;5;241m42\u001b[39m}\n\u001b[1;32m      6\u001b[0m \u001b[38;5;28mprint\u001b[39m(\u001b[38;5;124mf\u001b[39m\u001b[38;5;124m\"\u001b[39m\u001b[38;5;124mPlease verify the data fingerprint \u001b[39m\u001b[38;5;132;01m{\u001b[39;00mproof[\u001b[38;5;124m'\u001b[39m\u001b[38;5;124mdata_hash\u001b[39m\u001b[38;5;124m'\u001b[39m]\u001b[38;5;132;01m}\u001b[39;00m\u001b[38;5;124m against the used data\u001b[39m\u001b[38;5;124m\"\u001b[39m)\n\u001b[0;32m----> 7\u001b[0m \u001b[38;5;28mprint\u001b[39m(\u001b[38;5;124mf\u001b[39m\u001b[38;5;124m\"\u001b[39m\u001b[38;5;124mVerify that this matches with the commited pre_hash \u001b[39m\u001b[38;5;132;01m{\u001b[39;00m\u001b[43mproof\u001b[49m\u001b[43m[\u001b[49m\u001b[38;5;124;43m'\u001b[39;49m\u001b[38;5;124;43mpre_hash\u001b[39;49m\u001b[38;5;124;43m'\u001b[39;49m\u001b[43m]\u001b[49m\u001b[38;5;132;01m}\u001b[39;00m\u001b[38;5;124m\"\u001b[39m)\n\u001b[1;32m      8\u001b[0m \u001b[38;5;28mprint\u001b[39m(\u001b[38;5;124mf\u001b[39m\u001b[38;5;124m\"\u001b[39m\u001b[38;5;124mMake sure to use seed \u001b[39m\u001b[38;5;132;01m{\u001b[39;00mproof[\u001b[38;5;124m'\u001b[39m\u001b[38;5;124mseed\u001b[39m\u001b[38;5;124m'\u001b[39m]\u001b[38;5;132;01m}\u001b[39;00m\u001b[38;5;124m\"\u001b[39m)\n\u001b[1;32m     10\u001b[0m \u001b[38;5;66;03m# Verify main proof hash\u001b[39;00m\n",
      "\u001b[0;31mKeyError\u001b[0m: 'pre_hash'"
     ]
    }
   ],
   "source": [
    "# Import main hash and signature for proof object\n",
    "main_hash = '1d03a59045b126fe2e580f75a30298d73a2f5204c15828fee375ec992c3f77c2'\n",
    "proof_signature_hex = '0x5b5983f890ab3c714b3dfdd57cb7c841fc0793bb61459a0300893b73b120d41517897bb0aa5a72d4a2b0be87a9c121b94d2ccc8134cf2b64f98bc9d393ba70b300'\n",
    "proof =  {'roots': ['9aebface6387aeff2b3b4a9c0ccf94b617c41587a699d8b568ad7173806f28d9', '9ff5cf6b07c47ca91ea47969f88fdb4aec17760c74fecc89503fd4e25ae6d420', '169ed591e4712c61bdf73184d29ff53981c4832a2bc75bdbac5ca85de16f6776', '39f2cf5a5923eb790af160aef3c16adb32471bc27fbbaad78461498bc1fab792', '4088f92bff4d709e5ba0c3cad88ddc61cf9ddcfaab3f657b995690131c617560'], 'data_hash': '00000001', 'seed': 42}\n",
    "\n",
    "print(f\"Please verify the data fingerprint {proof['data_hash']} against the used data\")\n",
    "print(f\"Verify that this matches with the commited pre_hash {proof['pre_hash']}\")\n",
    "print(f\"Make sure to use seed {proof['seed']}\")\n",
    "\n",
    "# Verify main proof hash\n",
    "if verify_committed_hash(proof, main_hash):\n",
    "    print('Proof hash verified')\n",
    "else:\n",
    "    print('Proof hash not verified!')\n",
    "\n",
    "# Verify the signature on the proof object\n",
    "proof_hash = compute_sha256(str(proof).encode())\n",
    "if verify_signature_hex(public_key_hex, proof_hash, proof_signature_hex):\n",
    "    print('Signature valid')\n",
    "else:\n",
    "    print('Signature invalid!')\n",
    "\n",
    "# Verify the data using Merkle Tree and the proof object\n",
    "process_file_and_verify_roots(\"testchain.txt\", proof['roots'], skip=10, rounding=5)"
   ]
  },
  {
   "cell_type": "code",
   "execution_count": null,
   "metadata": {},
   "outputs": [],
   "source": []
  }
 ],
 "metadata": {
  "kernelspec": {
   "display_name": "Python 3",
   "language": "python",
   "name": "python3"
  },
  "language_info": {
   "codemirror_mode": {
    "name": "ipython",
    "version": 3
   },
   "file_extension": ".py",
   "mimetype": "text/x-python",
   "name": "python",
   "nbconvert_exporter": "python",
   "pygments_lexer": "ipython3",
   "version": "3.10.11"
  }
 },
 "nbformat": 4,
 "nbformat_minor": 2
}
